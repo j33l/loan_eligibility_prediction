{
 "cells": [
  {
   "cell_type": "code",
   "execution_count": 1,
   "metadata": {},
   "outputs": [
    {
     "name": "stderr",
     "output_type": "stream",
     "text": [
      "2023-03-19 00:26:06.607911: I tensorflow/core/platform/cpu_feature_guard.cc:193] This TensorFlow binary is optimized with oneAPI Deep Neural Network Library (oneDNN) to use the following CPU instructions in performance-critical operations:  AVX2 AVX512F FMA\n",
      "To enable them in other operations, rebuild TensorFlow with the appropriate compiler flags.\n",
      "2023-03-19 00:26:09.354537: W tensorflow/compiler/xla/stream_executor/platform/default/dso_loader.cc:64] Could not load dynamic library 'libcudart.so.11.0'; dlerror: libcudart.so.11.0: cannot open shared object file: No such file or directory\n",
      "2023-03-19 00:26:09.354562: I tensorflow/compiler/xla/stream_executor/cuda/cudart_stub.cc:29] Ignore above cudart dlerror if you do not have a GPU set up on your machine.\n",
      "2023-03-19 00:26:15.211489: W tensorflow/compiler/xla/stream_executor/platform/default/dso_loader.cc:64] Could not load dynamic library 'libnvinfer.so.7'; dlerror: libnvinfer.so.7: cannot open shared object file: No such file or directory\n",
      "2023-03-19 00:26:15.211703: W tensorflow/compiler/xla/stream_executor/platform/default/dso_loader.cc:64] Could not load dynamic library 'libnvinfer_plugin.so.7'; dlerror: libnvinfer_plugin.so.7: cannot open shared object file: No such file or directory\n",
      "2023-03-19 00:26:15.211716: W tensorflow/compiler/tf2tensorrt/utils/py_utils.cc:38] TF-TRT Warning: Cannot dlopen some TensorRT libraries. If you would like to use Nvidia GPU with TensorRT, please make sure the missing libraries mentioned above are installed properly.\n"
     ]
    },
    {
     "name": "stdout",
     "output_type": "stream",
     "text": [
      "Keras model archive loading:\n",
      "File Name                                             Modified             Size\n",
      "config.json                                    2023-03-19 00:05:32         1400\n",
      "variables.h5                                   2023-03-19 00:05:32        21392\n",
      "metadata.json                                  2023-03-19 00:05:32           64\n"
     ]
    },
    {
     "name": "stderr",
     "output_type": "stream",
     "text": [
      "2023-03-19 00:26:20.481062: W tensorflow/compiler/xla/stream_executor/platform/default/dso_loader.cc:64] Could not load dynamic library 'libcuda.so.1'; dlerror: libcuda.so.1: cannot open shared object file: No such file or directory\n",
      "2023-03-19 00:26:20.481099: W tensorflow/compiler/xla/stream_executor/cuda/cuda_driver.cc:265] failed call to cuInit: UNKNOWN ERROR (303)\n",
      "2023-03-19 00:26:20.481124: I tensorflow/compiler/xla/stream_executor/cuda/cuda_diagnostics.cc:156] kernel driver does not appear to be running on this host (codespaces-8c12c6): /proc/driver/nvidia/version does not exist\n",
      "2023-03-19 00:26:20.500254: I tensorflow/core/platform/cpu_feature_guard.cc:193] This TensorFlow binary is optimized with oneAPI Deep Neural Network Library (oneDNN) to use the following CPU instructions in performance-critical operations:  AVX2 AVX512F FMA\n",
      "To enable them in other operations, rebuild TensorFlow with the appropriate compiler flags.\n"
     ]
    },
    {
     "name": "stdout",
     "output_type": "stream",
     "text": [
      "Keras weights file (<HDF5 file \"variables.h5\" (mode r)>) loading:\n",
      "...layers\n",
      "......dense\n",
      ".........vars\n",
      "............0\n",
      "............1\n",
      "......dense_1\n",
      ".........vars\n",
      "............0\n",
      "............1\n",
      "...metrics\n",
      "......mean\n",
      ".........vars\n",
      "............0\n",
      "............1\n",
      "......mean_metric_wrapper\n",
      ".........vars\n",
      "............0\n",
      "............1\n",
      "...optimizer\n",
      "......vars\n",
      ".........0\n",
      ".........1\n",
      ".........2\n",
      ".........3\n",
      ".........4\n",
      ".........5\n",
      ".........6\n",
      ".........7\n",
      ".........8\n",
      "...vars\n",
      "Keras model archive loading:\n",
      "File Name                                             Modified             Size\n",
      "config.json                                    2023-03-19 00:05:32         1403\n",
      "variables.h5                                   2023-03-19 00:05:32        21392\n",
      "metadata.json                                  2023-03-19 00:05:32           64\n",
      "Keras weights file (<HDF5 file \"variables.h5\" (mode r)>) loading:\n",
      "...layers\n",
      "......dense\n",
      ".........vars\n",
      "............0\n",
      "............1\n",
      "......dense_1\n",
      ".........vars\n",
      "............0\n",
      "............1\n",
      "...metrics\n",
      "......mean\n",
      ".........vars\n",
      "............0\n",
      "............1\n",
      "......mean_metric_wrapper\n",
      ".........vars\n",
      "............0\n",
      "............1\n",
      "...optimizer\n",
      "......vars\n",
      ".........0\n",
      ".........1\n",
      ".........2\n",
      ".........3\n",
      ".........4\n",
      ".........5\n",
      ".........6\n",
      ".........7\n",
      ".........8\n",
      "...vars\n"
     ]
    }
   ],
   "source": [
    "# importing saved trained models\n",
    "\n",
    "import pickle\n",
    "\n",
    "LR = pickle.load(open('models/LR_model.pkl', 'rb'))\n",
    "LR_correlated = pickle.load(open('models/LR_correlated_model.pkl', 'rb'))\n",
    "\n",
    "RF = pickle.load(open('models/RF_model.pkl', 'rb'))\n",
    "RF_correlated = pickle.load(open('models/RF_correlated_model.pkl', 'rb'))\n",
    "\n",
    "GB = pickle.load(open('models/GB_model.pkl', 'rb'))\n",
    "GB_correlated = pickle.load(open('models/GB_correlated_model.pkl', 'rb'))\n",
    "\n",
    "SVM = pickle.load(open('models/SVM_model.pkl', 'rb'))\n",
    "SVM_correlated = pickle.load(open('models/SVM_correlated_model.pkl', 'rb'))\n",
    "\n",
    "ANN = pickle.load(open('models/ANN_model.pkl', 'rb'))\n",
    "ANN_correlated = pickle.load(open('models/ANN_correlated_model.pkl', 'rb'))\n"
   ]
  },
  {
   "cell_type": "code",
   "execution_count": 2,
   "metadata": {},
   "outputs": [],
   "source": [
    "# importing all train and test data\n",
    "\n",
    "import pandas as pd\n",
    "\n",
    "X_train = pd.read_csv('data/dataSplits/X_train.csv')\n",
    "y_train = pd.read_csv('data/dataSplits/y_train.csv')\n",
    "\n",
    "X_test = pd.read_csv('data/dataSplits/X_test.csv')\n",
    "y_test = pd.read_csv('data/dataSplits/y_test.csv')\n",
    "\n",
    "X_train_correlated = pd.read_csv('data/dataSplits/X_train_correlated.csv')\n",
    "y_train_correlated = pd.read_csv('data/dataSplits/y_train_correlated.csv')\n",
    "\n",
    "X_test_correlated = pd.read_csv('data/dataSplits/X_test_correlated.csv')\n",
    "y_test_correlated = pd.read_csv('data/dataSplits/y_test_correlated.csv')\n"
   ]
  },
  {
   "cell_type": "code",
   "execution_count": null,
   "metadata": {},
   "outputs": [],
   "source": []
  }
 ],
 "metadata": {
  "kernelspec": {
   "display_name": "Python 3",
   "language": "python",
   "name": "python3"
  },
  "language_info": {
   "codemirror_mode": {
    "name": "ipython",
    "version": 3
   },
   "file_extension": ".py",
   "mimetype": "text/x-python",
   "name": "python",
   "nbconvert_exporter": "python",
   "pygments_lexer": "ipython3",
   "version": "3.10.4"
  },
  "orig_nbformat": 4
 },
 "nbformat": 4,
 "nbformat_minor": 2
}
